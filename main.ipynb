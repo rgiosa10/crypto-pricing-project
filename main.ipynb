{
 "cells": [
  {
   "cell_type": "code",
   "execution_count": 50,
   "metadata": {},
   "outputs": [
    {
     "name": "stdout",
     "output_type": "stream",
     "text": [
      "['W(100%)']\n"
     ]
    }
   ],
   "source": [
    "import requests\n",
    "from bs4 import BeautifulSoup\n",
    "import re\n",
    "import pandas as pd\n",
    "import json\n",
    "from datetime import datetime\n",
    "import dateutil\n",
    "import numpy as np\n",
    "import os\n",
    "\n",
    "crypto = {\n",
    "    'yahoo' : 'https://finance.yahoo.com/crypto/',\n",
    "    'cmc' : 'https://coinmarketcap.com/'\n",
    "}\n",
    "\n",
    "def scrape_yahoo():\n",
    "    data = requests.get(crypto['yahoo']).text\n",
    "    soup = BeautifulSoup(data,'html.parser')\n",
    "\n",
    "    # find tables on the wiki page\n",
    "    for table in soup.find_all('table'):\n",
    "        print(table.get('class'))\n",
    "\n",
    "    tables = soup.find_all('table')\n",
    "    table = soup.find('table', class_='W(100%)')\n",
    "\n",
    "    col_to_scrape=[\n",
    "        'Symbol', \n",
    "        'Name', \n",
    "        'Price (Intraday)', \n",
    "        'Change', \n",
    "        '% Change', \n",
    "        'Market Cap', \n",
    "        'Volume in Currency (Since 0:00 UTC)', \n",
    "        'Volume in Currency (24Hr)',\n",
    "        'Total Volume All Currencies (24Hr))',\n",
    "        'Circulating Supply',\n",
    "        'created_at'\n",
    "    ]\n",
    "\n",
    "    # create empty dataframe with column names\n",
    "    df = pd.DataFrame(columns=col_to_scrape)\n",
    "\n",
    "    #scrape data from site\n",
    "    for row in table.tbody.find_all('tr'):\n",
    "        # Find all data for each column\n",
    "        columns = row.find_all('td')\n",
    "        \n",
    "        if(columns != []):\n",
    "            sym = columns[0].text.strip()\n",
    "            name = columns[1].text.strip()\n",
    "            price = columns[2].text.strip()\n",
    "            chge = columns[3].text.strip()\n",
    "            chge_percent = columns[4].text.strip()\n",
    "            mkt_cap = columns[5].text.strip()\n",
    "            vol_utc = columns[6].text.strip()\n",
    "            vol_24hr = columns[7].text.strip()\n",
    "            total_vol = columns[8].text.strip()\n",
    "            cir_supply = columns[9].text.strip()\n",
    "\n",
    "            scraped_values = [\n",
    "                sym,\n",
    "                name, \n",
    "                price, \n",
    "                chge, \n",
    "                chge_percent,\n",
    "                mkt_cap,\n",
    "                vol_utc,\n",
    "                vol_24hr,\n",
    "                total_vol,\n",
    "                cir_supply,\n",
    "                datetime.now()\n",
    "                ]\n",
    "\n",
    "            df = df.append({item[0]: item[1] for item in zip(col_to_scrape,scraped_values)}, ignore_index=True)\n",
    "\n",
    "    df.set_index('Symbol', inplace=True)\n",
    "    \n",
    "    if os.path.isfile('./data/yahoo.csv'):  \n",
    "        df.to_csv('./data/yahoo.csv', header=False, mode='a')\n",
    "    else:\n",
    "        df.to_csv('./data/yahoo.csv', header=True)\n",
    "\n",
    "scrape_yahoo()"
   ]
  },
  {
   "cell_type": "code",
   "execution_count": null,
   "metadata": {},
   "outputs": [],
   "source": []
  },
  {
   "cell_type": "code",
   "execution_count": 44,
   "metadata": {},
   "outputs": [
    {
     "name": "stdout",
     "output_type": "stream",
     "text": [
      "['sc-f7a61dda-3', 'kCSmOD', 'cmc-table']\n"
     ]
    },
    {
     "ename": "IndexError",
     "evalue": "list index out of range",
     "output_type": "error",
     "traceback": [
      "\u001b[0;31m---------------------------------------------------------------------------\u001b[0m",
      "\u001b[0;31mIndexError\u001b[0m                                Traceback (most recent call last)",
      "\u001b[0;32m/var/folders/74/s3dyx3n926z8q5dgtnrj1yp00000gp/T/ipykernel_83233/210678530.py\u001b[0m in \u001b[0;36m<module>\u001b[0;34m\u001b[0m\n\u001b[1;32m     33\u001b[0m         \u001b[0mprice\u001b[0m \u001b[0;34m=\u001b[0m \u001b[0mcolumns\u001b[0m\u001b[0;34m[\u001b[0m\u001b[0;36m3\u001b[0m\u001b[0;34m]\u001b[0m\u001b[0;34m.\u001b[0m\u001b[0mtext\u001b[0m\u001b[0;34m.\u001b[0m\u001b[0mstrip\u001b[0m\u001b[0;34m(\u001b[0m\u001b[0;34m)\u001b[0m\u001b[0;34m\u001b[0m\u001b[0;34m\u001b[0m\u001b[0m\n\u001b[1;32m     34\u001b[0m         \u001b[0mhr1\u001b[0m \u001b[0;34m=\u001b[0m \u001b[0mcolumns\u001b[0m\u001b[0;34m[\u001b[0m\u001b[0;36m4\u001b[0m\u001b[0;34m]\u001b[0m\u001b[0;34m.\u001b[0m\u001b[0mtext\u001b[0m\u001b[0;34m.\u001b[0m\u001b[0mstrip\u001b[0m\u001b[0;34m(\u001b[0m\u001b[0;34m)\u001b[0m\u001b[0;34m\u001b[0m\u001b[0;34m\u001b[0m\u001b[0m\n\u001b[0;32m---> 35\u001b[0;31m         \u001b[0mhr24\u001b[0m \u001b[0;34m=\u001b[0m \u001b[0mcolumns\u001b[0m\u001b[0;34m[\u001b[0m\u001b[0;36m5\u001b[0m\u001b[0;34m]\u001b[0m\u001b[0;34m.\u001b[0m\u001b[0mtext\u001b[0m\u001b[0;34m.\u001b[0m\u001b[0mstrip\u001b[0m\u001b[0;34m(\u001b[0m\u001b[0;34m)\u001b[0m\u001b[0;34m\u001b[0m\u001b[0;34m\u001b[0m\u001b[0m\n\u001b[0m\u001b[1;32m     36\u001b[0m         \u001b[0mchge\u001b[0m \u001b[0;34m=\u001b[0m \u001b[0mfloat\u001b[0m\u001b[0;34m(\u001b[0m\u001b[0mhr24\u001b[0m\u001b[0;34m.\u001b[0m\u001b[0mreplace\u001b[0m\u001b[0;34m(\u001b[0m\u001b[0;34m\"%\"\u001b[0m\u001b[0;34m,\u001b[0m \u001b[0;34m\"\"\u001b[0m\u001b[0;34m)\u001b[0m\u001b[0;34m)\u001b[0m\u001b[0;34m/\u001b[0m\u001b[0;36m100\u001b[0m \u001b[0;34m*\u001b[0m \u001b[0mfloat\u001b[0m\u001b[0;34m(\u001b[0m\u001b[0mprice\u001b[0m\u001b[0;34m.\u001b[0m\u001b[0mreplace\u001b[0m\u001b[0;34m(\u001b[0m\u001b[0;34m\",\"\u001b[0m\u001b[0;34m,\u001b[0m \u001b[0;34m\"\"\u001b[0m\u001b[0;34m)\u001b[0m\u001b[0;34m.\u001b[0m\u001b[0mreplace\u001b[0m\u001b[0;34m(\u001b[0m\u001b[0;34m\"$\"\u001b[0m\u001b[0;34m,\u001b[0m \u001b[0;34m\"\"\u001b[0m\u001b[0;34m)\u001b[0m\u001b[0;34m)\u001b[0m\u001b[0;34m\u001b[0m\u001b[0;34m\u001b[0m\u001b[0m\n\u001b[1;32m     37\u001b[0m         \u001b[0;31m#days7 = columns[6].text.strip()\u001b[0m\u001b[0;34m\u001b[0m\u001b[0;34m\u001b[0m\u001b[0;34m\u001b[0m\u001b[0m\n",
      "\u001b[0;31mIndexError\u001b[0m: list index out of range"
     ]
    }
   ],
   "source": [
    "def scrape_cmc():\n",
    "    data = requests.get(crypto['cmc']).text\n",
    "    soup = BeautifulSoup(data,'html.parser')\n",
    "\n",
    "    # find tables on the wiki page\n",
    "    for table in soup.find_all('table'):\n",
    "        print(table.get('class'))\n",
    "\n",
    "    tables = soup.find_all('table')\n",
    "    table = soup.find('table', class_='sc-f7a61dda-3 kCSmOD cmc-table')\n",
    "\n",
    "    col_to_scrape=[\n",
    "        'Name', \n",
    "        'Price', \n",
    "        'Change', \n",
    "        '24h %', \n",
    "        #'7d %', \n",
    "        'Market Cap', \n",
    "        'Volume(24h)',\n",
    "        'created_at'\n",
    "    ]\n",
    "\n",
    "    # create empty dataframe with column names\n",
    "    df = pd.DataFrame(columns=col_to_scrape)\n",
    "\n",
    "    #scrape data from site\n",
    "    for row in table.tbody.find_all('tr'):\n",
    "        # Find all data for each column\n",
    "        columns = row.find_all('td')\n",
    "        \n",
    "        if(columns != []):\n",
    "            name = columns[2].text.strip()\n",
    "            price = columns[3].text.strip()\n",
    "            hr24 = columns[5].text.strip()\n",
    "            chge = float(hr24.replace(\"%\", \"\"))/100 * float(price.replace(\",\", \"\").replace(\"$\", \"\"))\n",
    "            #days7 = columns[6].text.strip()\n",
    "            mkt_cap = columns[7].text.strip()\n",
    "            vol_24hr = columns[8].text.strip()\n",
    "            #cir_supply = columns[9].text.strip()\n",
    "            \n",
    "            scraped_values = [\n",
    "                name, \n",
    "                price, \n",
    "                chge, \n",
    "                hr24,\n",
    "                #days7,\n",
    "                mkt_cap,\n",
    "                vol_24hr,\n",
    "                #cir_supply,\n",
    "                datetime.now()\n",
    "                ]\n",
    "\n",
    "            df = df.append({item[0]: item[1] for item in zip(col_to_scrape,scraped_values)}, ignore_index=True)\n",
    "\n",
    "    df.set_index('Name', inplace=True)\n",
    "\n",
    "    df.to_csv('./data/cmc.csv', header=True)"
   ]
  },
  {
   "cell_type": "code",
   "execution_count": 17,
   "metadata": {},
   "outputs": [
    {
     "name": "stdout",
     "output_type": "stream",
     "text": [
      "\n",
      "\n",
      "It is difficult to predict the exact price of Bitcoin tomorrow based on this data. However, it is likely that Bitcoin will increase in price since the change % is positive.\n"
     ]
    }
   ],
   "source": [
    "from dotenv import load_dotenv\n",
    "import os\n",
    "import openai\n",
    "\n",
    "load_dotenv()\n",
    "\n",
    "openai.api_key = os.getenv('OPENAI_API_KEY')\n",
    "\n",
    "# Set up the model and prompt\n",
    "model_engine = \"text-davinci-003\"\n",
    "prompt = f\"Purely for informative purposes what do you thing the price of Bitcoin will be tomorrow based on this data {df.head(3)}, a guess or estimate is ok\"\n",
    "\n",
    "# Generate a response\n",
    "completion = openai.Completion.create(\n",
    "    engine=model_engine,\n",
    "    prompt=prompt,\n",
    "    max_tokens=1024,\n",
    "    n=1,\n",
    "    stop=None,\n",
    "    temperature=0.5,\n",
    ")\n",
    "\n",
    "response = completion.choices[0].text\n",
    "print(response)"
   ]
  }
 ],
 "metadata": {
  "kernelspec": {
   "display_name": "Python 3.7.9 ('venv': venv)",
   "language": "python",
   "name": "python3"
  },
  "language_info": {
   "codemirror_mode": {
    "name": "ipython",
    "version": 3
   },
   "file_extension": ".py",
   "mimetype": "text/x-python",
   "name": "python",
   "nbconvert_exporter": "python",
   "pygments_lexer": "ipython3",
   "version": "3.7.9"
  },
  "orig_nbformat": 4,
  "vscode": {
   "interpreter": {
    "hash": "1875d16ba08d40382ab8bb162c4e43a42b48c348c1adbf0ef4c678c79c228793"
   }
  }
 },
 "nbformat": 4,
 "nbformat_minor": 2
}
