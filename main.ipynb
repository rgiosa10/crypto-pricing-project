{
 "cells": [
  {
   "cell_type": "code",
   "execution_count": null,
   "metadata": {},
   "outputs": [],
   "source": [
    "import requests\n",
    "from bs4 import BeautifulSoup\n",
    "import re\n",
    "import pandas as pd\n",
    "import json\n",
    "from datetime import datetime\n",
    "import dateutil\n",
    "import numpy as np\n",
    "\n",
    "crypto = {'yahoo' : 'https://finance.yahoo.com/crypto/'}\n",
    "\n",
    "def scrape_yahoo():\n",
    "    data = requests.get(crypto['yahoo']).text\n",
    "    soup = BeautifulSoup(data,'html.parser')\n",
    "\n",
    "    # find tables on the wiki page\n",
    "    for table in soup.find_all('table'):\n",
    "        print(table.get('class'))\n",
    "\n",
    "    tables = soup.find_all('table')\n",
    "    table = soup.find('table', class_='W(100%)')\n",
    "\n",
    "    col_to_scrape=[\n",
    "        'Symbol', \n",
    "        'Name', \n",
    "        'Price (Intraday)', \n",
    "        'Change', \n",
    "        '% Change', \n",
    "        'Market Cap', \n",
    "        'Volume in Currency (Since 0:00 UTC)', \n",
    "        'Volume in Currency (24Hr)',\n",
    "        'Total Volume All Currencies (24Hr))',\n",
    "        'Circulating Supply'\n",
    "    ]\n",
    "\n",
    "    # create empty dataframe with column names\n",
    "    df = pd.DataFrame(columns=col_to_scrape)\n",
    "\n",
    "    "
   ]
  }
 ],
 "metadata": {
  "kernelspec": {
   "display_name": "Python 3.7.9 ('venv': venv)",
   "language": "python",
   "name": "python3"
  },
  "language_info": {
   "codemirror_mode": {
    "name": "ipython",
    "version": 3
   },
   "file_extension": ".py",
   "mimetype": "text/x-python",
   "name": "python",
   "nbconvert_exporter": "python",
   "pygments_lexer": "ipython3",
   "version": "3.7.9"
  },
  "orig_nbformat": 4,
  "vscode": {
   "interpreter": {
    "hash": "1875d16ba08d40382ab8bb162c4e43a42b48c348c1adbf0ef4c678c79c228793"
   }
  }
 },
 "nbformat": 4,
 "nbformat_minor": 2
}
